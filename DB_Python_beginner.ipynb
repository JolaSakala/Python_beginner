{
  "nbformat": 4,
  "nbformat_minor": 0,
  "metadata": {
    "colab": {
      "name": "Nicola.ipynb",
      "provenance": [],
      "collapsed_sections": [],
      "authorship_tag": "ABX9TyMn2k+CMUBeqwtqVMinAXF0",
      "include_colab_link": true
    },
    "kernelspec": {
      "name": "python3",
      "display_name": "Python 3"
    }
  },
  "cells": [
    {
      "cell_type": "markdown",
      "metadata": {
        "id": "view-in-github",
        "colab_type": "text"
      },
      "source": [
        "<a href=\"https://colab.research.google.com/github/JolaSakala/python_beginner/blob/main/DB_Python_beginner.ipynb\" target=\"_parent\"><img src=\"https://colab.research.google.com/assets/colab-badge.svg\" alt=\"Open In Colab\"/></a>"
      ]
    },
    {
      "cell_type": "code",
      "metadata": {
        "id": "ISNUsAcuv4sG"
      },
      "source": [
        "int('99')"
      ],
      "execution_count": null,
      "outputs": []
    },
    {
      "cell_type": "code",
      "metadata": {
        "id": "2S-a5gGFLqRe"
      },
      "source": [
        " float('99.99')"
      ],
      "execution_count": null,
      "outputs": []
    },
    {
      "cell_type": "code",
      "metadata": {
        "id": "YKSHUyXfLlX7"
      },
      "source": [
        " int(99.9)"
      ],
      "execution_count": null,
      "outputs": []
    },
    {
      "cell_type": "code",
      "metadata": {
        "id": "_hz-z82NLsO9"
      },
      "source": [
        " int('99.9')"
      ],
      "execution_count": null,
      "outputs": []
    },
    {
      "cell_type": "code",
      "metadata": {
        "id": "fudJlMCpN1XE"
      },
      "source": [
        "int('one')"
      ],
      "execution_count": null,
      "outputs": []
    },
    {
      "cell_type": "code",
      "metadata": {
        "id": "fmtsbYoZPN0d"
      },
      "source": [
        " \n",
        "Operator\n",
        "Operation\n",
        "Example\n",
        "Evaluates to . . .\n",
        "**\n",
        "Exponent\n",
        "2 ** 3\n",
        "8\n",
        "%\n",
        "Modulus/remainder\n",
        "22 % 8\n",
        "6\n",
        "//\n",
        "Integer division/floored quotient\n",
        "22 // 8\n",
        "2\n",
        "/\n",
        "Division\n",
        "22 / 8\n",
        "2.75\n",
        "*\n",
        "Multiplication\n",
        "3 * 5\n",
        "15\n",
        "-\n",
        "Subtraction\n",
        "5 - 2\n",
        "3\n",
        "+\n",
        "Addition\n",
        "2 + 2\n",
        "4"
      ],
      "execution_count": null,
      "outputs": []
    },
    {
      "cell_type": "code",
      "metadata": {
        "id": "qLnACC8SUyRM"
      },
      "source": [
        "name = ''\n",
        "while name != 'your name':\n",
        "       print('Please type your name.')\n",
        "       name = input()\n",
        "print('Thank you!')"
      ],
      "execution_count": null,
      "outputs": []
    },
    {
      "cell_type": "code",
      "metadata": {
        "id": "Z3xnSJahVJ8q"
      },
      "source": [
        " while True:\n",
        "    print('Please type your name.')\n",
        "    name = input()\n",
        "    if name == 'your name':\n",
        "        break\n",
        "print('Thank you!')"
      ],
      "execution_count": null,
      "outputs": []
    },
    {
      "cell_type": "code",
      "metadata": {
        "id": "RghMl9RcLdbR"
      },
      "source": [
        " def spam():\n",
        "     global eggs\n",
        "     eggs = 'spam' # this is the global\n",
        " \n",
        "def bacon():\n",
        "   eggs = 'bacon' # this is a local\n",
        " \n",
        "def ham():\n",
        "   print(eggs) # this is the global\n",
        " \n",
        "eggs = 42 # this is the global\n",
        "print(eggs)\n",
        "ham()\n",
        "print(eggs)\n",
        "spam()\n",
        "print(eggs)\n",
        "ham()\n",
        "print(eggs)"
      ],
      "execution_count": null,
      "outputs": []
    },
    {
      "cell_type": "code",
      "metadata": {
        "id": "fOk9x9z1NzzE"
      },
      "source": [
        " import time, sys\n",
        "indent = 0 # How many spaces to indent.\n",
        "indentIncreasing = True # Whether the indentation is increasing or not.\n",
        " \n",
        "try:\n",
        "    while True: # The main program loop.\n",
        "        print(' ' * indent, end='')\n",
        "        print('********')\n",
        "        time.sleep(0.1) # Pause for 1/10 of a second.\n",
        " \n",
        "        if indentIncreasing:\n",
        "            # Increase the number of spaces:\n",
        "            indent = indent + 1\n",
        "            if indent == 20:\n",
        "                # Change direction:\n",
        "                indentIncreasing = False\n",
        " \n",
        "        else:\n",
        "            # Decrease the number of spaces:\n",
        "            indent = indent - 1\n",
        "            if indent == 0:\n",
        "                # Change direction:\n",
        "                indentIncreasing = True\n",
        "except KeyboardInterrupt:\n",
        "    sys.exit()"
      ],
      "execution_count": null,
      "outputs": []
    },
    {
      "cell_type": "code",
      "metadata": {
        "id": "E7eb0yxWaDci",
        "outputId": "6e64de92-9f6c-42a2-b7ff-20aa75d7207d",
        "colab": {
          "base_uri": "https://localhost:8080/",
          "height": 1000
        }
      },
      "source": [
        " # Conway's Game of Life\n",
        "import random, time, copy\n",
        "WIDTH = 60\n",
        "HEIGHT = 20\n",
        " \n",
        "# Create a list of list for the cells:\n",
        "nextCells = []\n",
        "for x in range(WIDTH):\n",
        "    column = [] # Create a new column.\n",
        "    for y in range(HEIGHT):\n",
        "        if random.randint(0, 1) == 0:\n",
        "            column.append('#') # Add a living cell.\n",
        "        else:\n",
        "            column.append(' ') # Add a dead cell.\n",
        "    nextCells.append(column) # nextCells is a list of column lists.\n",
        " \n",
        "while True: # Main program loop.\n",
        "    print('\\n\\n\\n\\n\\n') # Separate each step with newlines.\n",
        "    currentCells = copy.deepcopy(nextCells)\n",
        " \n",
        "    # Print currentCells on the screen:\n",
        "    for y in range(HEIGHT):\n",
        "        for x in range(WIDTH):\n",
        "            print(currentCells[x][y], end='') # Print the # or space.\n",
        "        print() # Print a newline at the end of the row.\n",
        " \n",
        "    # Calculate the next step's cells based on current step's cells:\n",
        "    for x in range(WIDTH):\n",
        "        for y in range(HEIGHT):\n",
        "            # Get neighboring coordinates:\n",
        "            # `% WIDTH` ensures leftCoord is always between 0 and WIDTH - 1\n",
        "            leftCoord  = (x - 1) % WIDTH\n",
        "            rightCoord = (x + 1) % WIDTH\n",
        "            aboveCoord = (y - 1) % HEIGHT\n",
        "            belowCoord = (y + 1) % HEIGHT\n",
        " \n",
        "            # Count number of living neighbors:\n",
        "            numNeighbors = 0\n",
        "            if currentCells[leftCoord][aboveCoord] == '#':\n",
        "                numNeighbors += 1 # Top-left neighbor is alive.\n",
        "            if currentCells[x][aboveCoord] == '#':\n",
        "                numNeighbors += 1 # Top neighbor is alive.\n",
        "            if currentCells[rightCoord][aboveCoord] == '#':\n",
        "                numNeighbors += 1 # Top-right neighbor is alive.\n",
        "            if currentCells[leftCoord][y] == '#':\n",
        "                numNeighbors += 1 # Left neighbor is alive.\n",
        "            if currentCells[rightCoord][y] == '#':\n",
        "                numNeighbors += 1 # Right neighbor is alive.\n",
        "            if currentCells[leftCoord][belowCoord] == '#':\n",
        "                numNeighbors += 1 # Bottom-left neighbor is alive.\n",
        "            if currentCells[x][belowCoord] == '#':\n",
        "                numNeighbors += 1 # Bottom neighbor is alive.\n",
        "            if currentCells[rightCoord][belowCoord] == '#':\n",
        "                numNeighbors += 1 # Bottom-right neighbor is alive.\n",
        " \n",
        "            # Set cell based on Conway's Game of Life rules:\n",
        "            if currentCells[x][y] == '#' and (numNeighbors == 2 or\n",
        "numNeighbors == 3):\n",
        "                # Living cells with 2 or 3 neighbors stay alive:\n",
        "                nextCells[x][y] = '#'\n",
        "            elif currentCells[x][y] == ' ' and numNeighbors == 3:\n",
        "                # Dead cells with 3 neighbors become alive:\n",
        "                nextCells[x][y] = '#'\n",
        "            else:\n",
        "                # Everything else dies or stays dead:\n",
        "                nextCells[x][y] = ' '\n",
        "    time.sleep(1) # Add a 1-second pause to reduce flickering."
      ],
      "execution_count": null,
      "outputs": [
        {
          "output_type": "stream",
          "text": [
            "\n",
            "\n",
            "\n",
            "\n",
            "\n",
            "\n",
            "# ###     ## #  ###  ## #   ##  # # ### # # # ##    ## # # #\n",
            "# ######   #  #   # # #  #### #    ## ##### #####   ##  # # \n",
            "  # #  ### ## #  # ## # #     #   ### ### #     # # #    ## \n",
            "## # # ###  ## #   ##  # ##   # # ##  #    #### ####  ##    \n",
            "  ##### ###   # #  ## ## #  #### #  ##  ##### #  # # #   # #\n",
            "#   ## ##  #  ## ########      # #### ### ##  ##  #  ###  # \n",
            "# #  #### ##   ###   #### # ## ####### #  ##  #  #  ##  ##  \n",
            " ###  # # ## #   #  #  # ###  ###   #    #  # # # ##   #  # \n",
            "  # #    #       ## ##    ##  ## ###  ####   ## #     ####  \n",
            "### ###   #  ### #  #  ##  #          ## ###   #  ## #    # \n",
            "# ## #####   ### ##    ## # ## #   #    #  #     ## #  ## # \n",
            " #  #  #  #        #  ### # ## ### ###   # #    ## #### #   \n",
            "# #  # ### #     #####     #  ##  ## ### #    ## ##  ###  # \n",
            "##  ## ### #  # ###### ######   # # #   ### ## #     ### ## \n",
            " ## ##   # ####     #    #    ##    # #  #  ####  ##    #  #\n",
            "#  # ###  ### #   #  ####   #   ## # ##  #  #  # #    # #   \n",
            "### ## ###    ###     ## ## ###   #       #### # #### # ##  \n",
            " #  ###   #   ###  # #####   # #   # ### # #    ## ## #  ###\n",
            "## # ####  #  ####  # #  ### # ##  #  ##   ## #  ### # #    \n",
            "#   #### ## #### ### #    ## ## #  # #      ##   #####      \n",
            "\n",
            "\n",
            "\n",
            "\n",
            "\n",
            "\n",
            "# #     ##      #     ##         ##     # #      ##     ### \n",
            "#     ## #    ###   # # ##### ## #        # #   ##    # #   \n",
            "#        # #  ##      # #     #  #        #       # # ##### \n",
            "##          #  ##        ##     #     #       # #    ## ## #\n",
            "  #       ###   ##       ##  #          #          # #  # ##\n",
            "# #        #  #            #                  ######   #  # \n",
            "# #            #          # ##         #    # # ##  ##  ### \n",
            "    # # #  ##      ##  #                 # ## # # ####    # \n",
            "#   # ## # ###   ## ####    # #  ### ##    #### #   # ######\n",
            "#         #  # #    #####    # ##  #  #    ## ### ####    # \n",
            "#       ###  # # ###      #  # #  ## ####  ##          ##   \n",
            "#   #     #   # #    ## # #      #   # # #     #        #   \n",
            "# ## #     #    #             #       ##   ##### ###      # \n",
            "       #   #  ###     # ## ###  ### #     ###    # ###   ## \n",
            "  #      #    #             ## #  # # ##       #  #  #  # ##\n",
            "       #             #    ###   #######  #     # #  ##  #  #\n",
            "  #     ##      ##  #     ### ######   ###   ###    # # #   \n",
            "          #  #      #          ## #### ##     ##      #  ###\n",
            " ###    #  ##              # #  # ##   ## ##              # \n",
            "         #         #   #        # ##           ###      #   \n",
            "\n",
            "\n",
            "\n",
            "\n",
            "\n",
            "\n",
            " #     # ##     #    ##  ###   #   #     # #   #  #     #  #\n",
            "#      # #    # #     # #### ### #        #     #  # ##     \n",
            "        # #  #       #  #    ##  #         #   ##         # \n",
            " #          ###  #      # #                        #        \n",
            "  #       # ##  ##       # #                  #    # #  #   \n",
            "# ##      ###  ##        # # #               ##    # ###    \n",
            "   #       ##              ##              ## #      ## # # \n",
            "## #  # # ## #    ###  #   ##     #   #   #   # # #         \n",
            "#     ####   ##   #          ##########         #     ###   \n",
            "##     #     #          #   ## ##         #   # ## ###    # \n",
            "##        ## # # ###    #      # ### #  # ##### #  ##  ###  \n",
            "#  ##     ##  # # #      #    #   # ##    #    ## #    ###  \n",
            " # ##     ##  # ##   ## # ####  # #  ####  "
          ],
          "name": "stdout"
        },
        {
          "output_type": "error",
          "ename": "KeyboardInterrupt",
          "evalue": "ignored",
          "traceback": [
            "\u001b[0;31m---------------------------------------------------------------------------\u001b[0m",
            "\u001b[0;31mKeyboardInterrupt\u001b[0m                         Traceback (most recent call last)",
            "\u001b[0;32m<ipython-input-2-f5362863d982>\u001b[0m in \u001b[0;36m<module>\u001b[0;34m()\u001b[0m\n\u001b[1;32m     22\u001b[0m    \u001b[0;32mfor\u001b[0m \u001b[0my\u001b[0m \u001b[0;32min\u001b[0m \u001b[0mrange\u001b[0m\u001b[0;34m(\u001b[0m\u001b[0mHEIGHT\u001b[0m\u001b[0;34m)\u001b[0m\u001b[0;34m:\u001b[0m\u001b[0;34m\u001b[0m\u001b[0;34m\u001b[0m\u001b[0m\n\u001b[1;32m     23\u001b[0m        \u001b[0;32mfor\u001b[0m \u001b[0mx\u001b[0m \u001b[0;32min\u001b[0m \u001b[0mrange\u001b[0m\u001b[0;34m(\u001b[0m\u001b[0mWIDTH\u001b[0m\u001b[0;34m)\u001b[0m\u001b[0;34m:\u001b[0m\u001b[0;34m\u001b[0m\u001b[0;34m\u001b[0m\u001b[0m\n\u001b[0;32m---> 24\u001b[0;31m            \u001b[0mprint\u001b[0m\u001b[0;34m(\u001b[0m\u001b[0mcurrentCells\u001b[0m\u001b[0;34m[\u001b[0m\u001b[0mx\u001b[0m\u001b[0;34m]\u001b[0m\u001b[0;34m[\u001b[0m\u001b[0my\u001b[0m\u001b[0;34m]\u001b[0m\u001b[0;34m,\u001b[0m \u001b[0mend\u001b[0m\u001b[0;34m=\u001b[0m\u001b[0;34m''\u001b[0m\u001b[0;34m)\u001b[0m \u001b[0;31m# Print the # or space.\u001b[0m\u001b[0;34m\u001b[0m\u001b[0;34m\u001b[0m\u001b[0m\n\u001b[0m\u001b[1;32m     25\u001b[0m        \u001b[0mprint\u001b[0m\u001b[0;34m(\u001b[0m\u001b[0;34m)\u001b[0m \u001b[0;31m# Print a newline at the end of the row.\u001b[0m\u001b[0;34m\u001b[0m\u001b[0;34m\u001b[0m\u001b[0m\n\u001b[1;32m     26\u001b[0m \u001b[0;34m\u001b[0m\u001b[0m\n",
            "\u001b[0;32m/usr/local/lib/python3.6/dist-packages/ipykernel/iostream.py\u001b[0m in \u001b[0;36mwrite\u001b[0;34m(self, string)\u001b[0m\n\u001b[1;32m    398\u001b[0m             \u001b[0mis_child\u001b[0m \u001b[0;34m=\u001b[0m \u001b[0;34m(\u001b[0m\u001b[0;32mnot\u001b[0m \u001b[0mself\u001b[0m\u001b[0;34m.\u001b[0m\u001b[0m_is_master_process\u001b[0m\u001b[0;34m(\u001b[0m\u001b[0;34m)\u001b[0m\u001b[0;34m)\u001b[0m\u001b[0;34m\u001b[0m\u001b[0;34m\u001b[0m\u001b[0m\n\u001b[1;32m    399\u001b[0m             \u001b[0;31m# only touch the buffer in the IO thread to avoid races\u001b[0m\u001b[0;34m\u001b[0m\u001b[0;34m\u001b[0m\u001b[0;34m\u001b[0m\u001b[0m\n\u001b[0;32m--> 400\u001b[0;31m             \u001b[0mself\u001b[0m\u001b[0;34m.\u001b[0m\u001b[0mpub_thread\u001b[0m\u001b[0;34m.\u001b[0m\u001b[0mschedule\u001b[0m\u001b[0;34m(\u001b[0m\u001b[0;32mlambda\u001b[0m \u001b[0;34m:\u001b[0m \u001b[0mself\u001b[0m\u001b[0;34m.\u001b[0m\u001b[0m_buffer\u001b[0m\u001b[0;34m.\u001b[0m\u001b[0mwrite\u001b[0m\u001b[0;34m(\u001b[0m\u001b[0mstring\u001b[0m\u001b[0;34m)\u001b[0m\u001b[0;34m)\u001b[0m\u001b[0;34m\u001b[0m\u001b[0;34m\u001b[0m\u001b[0m\n\u001b[0m\u001b[1;32m    401\u001b[0m             \u001b[0;32mif\u001b[0m \u001b[0mis_child\u001b[0m\u001b[0;34m:\u001b[0m\u001b[0;34m\u001b[0m\u001b[0;34m\u001b[0m\u001b[0m\n\u001b[1;32m    402\u001b[0m                 \u001b[0;31m# newlines imply flush in subprocesses\u001b[0m\u001b[0;34m\u001b[0m\u001b[0;34m\u001b[0m\u001b[0;34m\u001b[0m\u001b[0m\n",
            "\u001b[0;32m/usr/local/lib/python3.6/dist-packages/ipykernel/iostream.py\u001b[0m in \u001b[0;36mschedule\u001b[0;34m(self, f)\u001b[0m\n\u001b[1;32m    201\u001b[0m             \u001b[0mself\u001b[0m\u001b[0;34m.\u001b[0m\u001b[0m_events\u001b[0m\u001b[0;34m.\u001b[0m\u001b[0mappend\u001b[0m\u001b[0;34m(\u001b[0m\u001b[0mf\u001b[0m\u001b[0;34m)\u001b[0m\u001b[0;34m\u001b[0m\u001b[0;34m\u001b[0m\u001b[0m\n\u001b[1;32m    202\u001b[0m             \u001b[0;31m# wake event thread (message content is ignored)\u001b[0m\u001b[0;34m\u001b[0m\u001b[0;34m\u001b[0m\u001b[0;34m\u001b[0m\u001b[0m\n\u001b[0;32m--> 203\u001b[0;31m             \u001b[0mself\u001b[0m\u001b[0;34m.\u001b[0m\u001b[0m_event_pipe\u001b[0m\u001b[0;34m.\u001b[0m\u001b[0msend\u001b[0m\u001b[0;34m(\u001b[0m\u001b[0;34mb''\u001b[0m\u001b[0;34m)\u001b[0m\u001b[0;34m\u001b[0m\u001b[0;34m\u001b[0m\u001b[0m\n\u001b[0m\u001b[1;32m    204\u001b[0m         \u001b[0;32melse\u001b[0m\u001b[0;34m:\u001b[0m\u001b[0;34m\u001b[0m\u001b[0;34m\u001b[0m\u001b[0m\n\u001b[1;32m    205\u001b[0m             \u001b[0mf\u001b[0m\u001b[0;34m(\u001b[0m\u001b[0;34m)\u001b[0m\u001b[0;34m\u001b[0m\u001b[0;34m\u001b[0m\u001b[0m\n",
            "\u001b[0;32m/usr/local/lib/python3.6/dist-packages/zmq/sugar/socket.py\u001b[0m in \u001b[0;36msend\u001b[0;34m(self, data, flags, copy, track, routing_id, group)\u001b[0m\n\u001b[1;32m    414\u001b[0m                                  copy_threshold=self.copy_threshold)\n\u001b[1;32m    415\u001b[0m             \u001b[0mdata\u001b[0m\u001b[0;34m.\u001b[0m\u001b[0mgroup\u001b[0m \u001b[0;34m=\u001b[0m \u001b[0mgroup\u001b[0m\u001b[0;34m\u001b[0m\u001b[0;34m\u001b[0m\u001b[0m\n\u001b[0;32m--> 416\u001b[0;31m         \u001b[0;32mreturn\u001b[0m \u001b[0msuper\u001b[0m\u001b[0;34m(\u001b[0m\u001b[0mSocket\u001b[0m\u001b[0;34m,\u001b[0m \u001b[0mself\u001b[0m\u001b[0;34m)\u001b[0m\u001b[0;34m.\u001b[0m\u001b[0msend\u001b[0m\u001b[0;34m(\u001b[0m\u001b[0mdata\u001b[0m\u001b[0;34m,\u001b[0m \u001b[0mflags\u001b[0m\u001b[0;34m=\u001b[0m\u001b[0mflags\u001b[0m\u001b[0;34m,\u001b[0m \u001b[0mcopy\u001b[0m\u001b[0;34m=\u001b[0m\u001b[0mcopy\u001b[0m\u001b[0;34m,\u001b[0m \u001b[0mtrack\u001b[0m\u001b[0;34m=\u001b[0m\u001b[0mtrack\u001b[0m\u001b[0;34m)\u001b[0m\u001b[0;34m\u001b[0m\u001b[0;34m\u001b[0m\u001b[0m\n\u001b[0m\u001b[1;32m    417\u001b[0m \u001b[0;34m\u001b[0m\u001b[0m\n\u001b[1;32m    418\u001b[0m     \u001b[0;32mdef\u001b[0m \u001b[0msend_multipart\u001b[0m\u001b[0;34m(\u001b[0m\u001b[0mself\u001b[0m\u001b[0;34m,\u001b[0m \u001b[0mmsg_parts\u001b[0m\u001b[0;34m,\u001b[0m \u001b[0mflags\u001b[0m\u001b[0;34m=\u001b[0m\u001b[0;36m0\u001b[0m\u001b[0;34m,\u001b[0m \u001b[0mcopy\u001b[0m\u001b[0;34m=\u001b[0m\u001b[0;32mTrue\u001b[0m\u001b[0;34m,\u001b[0m \u001b[0mtrack\u001b[0m\u001b[0;34m=\u001b[0m\u001b[0;32mFalse\u001b[0m\u001b[0;34m,\u001b[0m \u001b[0;34m**\u001b[0m\u001b[0mkwargs\u001b[0m\u001b[0;34m)\u001b[0m\u001b[0;34m:\u001b[0m\u001b[0;34m\u001b[0m\u001b[0;34m\u001b[0m\u001b[0m\n",
            "\u001b[0;32mzmq/backend/cython/socket.pyx\u001b[0m in \u001b[0;36mzmq.backend.cython.socket.Socket.send\u001b[0;34m()\u001b[0m\n",
            "\u001b[0;32mzmq/backend/cython/socket.pyx\u001b[0m in \u001b[0;36mzmq.backend.cython.socket.Socket.send\u001b[0;34m()\u001b[0m\n",
            "\u001b[0;32mzmq/backend/cython/socket.pyx\u001b[0m in \u001b[0;36mzmq.backend.cython.socket._send_copy\u001b[0;34m()\u001b[0m\n",
            "\u001b[0;32m/usr/local/lib/python3.6/dist-packages/zmq/backend/cython/checkrc.pxd\u001b[0m in \u001b[0;36mzmq.backend.cython.checkrc._check_rc\u001b[0;34m()\u001b[0m\n",
            "\u001b[0;31mKeyboardInterrupt\u001b[0m: "
          ]
        }
      ]
    },
    {
      "cell_type": "code",
      "metadata": {
        "id": "Ozqh56L4K_Ya"
      },
      "source": [
        ""
      ],
      "execution_count": null,
      "outputs": []
    }
  ]
}